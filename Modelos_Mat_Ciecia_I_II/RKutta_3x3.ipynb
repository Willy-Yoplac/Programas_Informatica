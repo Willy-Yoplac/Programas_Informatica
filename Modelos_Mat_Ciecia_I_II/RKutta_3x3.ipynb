{
  "cells": [
    {
      "attachments": {},
      "cell_type": "markdown",
      "metadata": {
        "id": "6iGk0jIl6ZQU"
      },
      "source": [
        "**Método de Runge Kutta de orden 4**\n",
        "\n",
        "importamos las librerias"
      ]
    },
    {
      "cell_type": "code",
      "execution_count": 29,
      "metadata": {
        "id": "H2jyg5Dz6o67"
      },
      "outputs": [],
      "source": [
        "#importamos las librerias a utilizar\n",
        "import matplotlib.pyplot as plt\n",
        "import numpy as np "
      ]
    },
    {
      "attachments": {},
      "cell_type": "markdown",
      "metadata": {
        "id": "kNL9LS_8aptG"
      },
      "source": [
        "**Método de Runge Kuta de orden 4**\n",
        "\n",
        "De la formula de Runge-Kutta de orden 4 tenemos:\n",
        "\n",
        "$$ m_1 = f(t_i,y_i, u_i, z_i) $$\n",
        "$$ k_1 =g(t_i,y_i, u_i, z_i) $$\n",
        "$$ r_1 =h(t_i,y_i, u_i, z_i) $$\n",
        "\n",
        "$$ m_2 = f\\left(t_i+ \\dfrac{h}{2},y_i+\\dfrac{h}{2}m_1, u_i+\\dfrac{h}{2}k_1 , z_i+\\dfrac{h}{2}r_1 \\right) $$\n",
        "$$ k_2 = g\\left(t_i+ \\dfrac{h}{2},y_i+\\dfrac{h}{2}m_1, u_i+\\dfrac{h}{2}k_1 , z_i+\\dfrac{h}{2}r_1 \\right) $$ \n",
        "$$ r_2 = h\\left(t_i+ \\dfrac{h}{2},y_i+\\dfrac{h}{2}m_1, u_i+\\dfrac{h}{2}k_1 , z_i+\\dfrac{h}{2}r_1 \\right) $$ \n",
        "\n",
        "\n",
        "$$ m_3 = f\\left(t_i+ \\dfrac{h}{2},y_i+\\dfrac{h}{2}m_2, u_i+\\dfrac{h}{2}k_2,z_i+\\dfrac{h}{2}r_1 \\right) $$\n",
        "$$ k_3 = f\\left(t_i+ \\dfrac{h}{2},y_i+\\dfrac{h}{2}m_2, u_i+\\dfrac{h}{2}k_2,z_i+\\dfrac{h}{2}r_1 \\right) $$\n",
        "$$ r_3 = f\\left(t_i+ \\dfrac{h}{2},y_i+\\dfrac{h}{2}m_2, u_i+\\dfrac{h}{2}k_2,z_i+\\dfrac{h}{2}r_1 \\right) $$\n",
        "\n",
        "\n",
        "$$ m_4 = f\\left(t_i+ h,y_i+hm_3, u_i+hk_3, z_i+hr_3 \\right) $$\n",
        "$$ k_4 = f\\left(t_i+ h,y_i+hm_3, u_i+hk_3, z_i+hr_3 \\right) $$\n",
        "$$ r_4 = f\\left(t_i+ h,y_i+hm_3, u_i+hk_3, z_i+hr_3 \\right) $$\n"
      ]
    },
    {
      "attachments": {},
      "cell_type": "markdown",
      "metadata": {},
      "source": [
        "\n",
        "Finalmente la aproximación para la EDO:\n",
        "\n",
        "$$ y_{i+1}=y_i + h\\dfrac{m_1+2m_2+2m_3+m_4}{6}  $$ \n",
        "$$ u_{i+1}=u_i + h\\dfrac{k_1+2k_2+2k_3+k_4}{6}  $$ \n",
        "$$ z_{i+1}=z_i + h\\dfrac{k_1+2k_2+2k_3+k_4}{6}  $$ "
      ]
    },
    {
      "cell_type": "code",
      "execution_count": 30,
      "metadata": {},
      "outputs": [],
      "source": [
        "#Definimos las ecuaciones\n",
        "def f(t, x, y,z):\n",
        "  f =  y \n",
        "  return (f)\n",
        "\n",
        "def g(t,x,y,z):\n",
        "  gt = z\n",
        "  return (gt)\n",
        "\n",
        "def q(t,x,y,z):\n",
        "  z = 5*z-4*y-10*x\n",
        "  return (z)"
      ]
    },
    {
      "cell_type": "code",
      "execution_count": 31,
      "metadata": {
        "colab": {
          "base_uri": "https://localhost:8080/"
        },
        "id": "RztPfHo1PPEi",
        "outputId": "7ac16aa6-d93d-4a0a-80a6-0221376ba9cf"
      },
      "outputs": [],
      "source": [
        "\n",
        "def RK4(ti,xi, yi, tf, h,z):\n",
        "  n = round((tf - ti)/h)                                     #cantidad de intervalos\n",
        "  t = np.linspace(ti, tf, int(n+1))                   #valores de x\n",
        "  xf=[]\n",
        "  xf.append(xi)\n",
        "  yf=[]                                               #aproximacion de la integral de f'x                                          #vector de k4\n",
        "  yf.append(yi)\n",
        "  yz=[]                                               #aproximacion de la integral de f'x                                          #vector de k4\n",
        "  yz.append(z)\n",
        "\n",
        "  for i in range (int(n)):\n",
        "    m1=f(t[i],xf[i], yf[i],yz[i])\n",
        "    k1=g(t[i],xf[i], yf[i],yz[i])\n",
        "    r1=q(t[i],xf[i], yf[i],yz[i])\n",
        "\n",
        "    m2= f(t[i]+(h/2), xf[i]+(h/2)*m1, yf[i]+(h/2)*k1, yz[i]+(h/2)*r1) \n",
        "    k2 = g(t[i]+(h/2), xf[i]+(h/2)*m1, yf[i]+(h/2)*k1, yz[i]+(h/2)*r1)\n",
        "    r2 = q(t[i]+(h/2), xf[i]+(h/2)*m1, yf[i]+(h/2)*k1, yz[i]+(h/2)*r1)\n",
        "\n",
        "    m3= f(t[i]+(h/2), xf[i]+(h/2)*m2, yf[i]+(h/2)*k2, yz[i]+(h/2)*r2)\n",
        "    k3 = g(t[i]+(h/2), xf[i]+(h/2)*m2, yf[i]+(h/2)*k2, yz[i]+(h/2)*r2)\n",
        "    r3 = q(t[i]+(h/2), xf[i]+(h/2)*m2, yf[i]+(h/2)*k2, yz[i]+(h/2)*r2)\n",
        "    \n",
        "    m4= f(t[i]+h, xf[i]+h*m3, yf[i]+h*k3, yz[i]+h*k3)\n",
        "    k4 = g(t[i]+h, xf[i]+h*m3, yf[i]+h*k3, yz[i]+h*k3)\n",
        "    r4 = q(t[i]+h, xf[i]+h*m3, yf[i]+h*k3, yz[i]+h*k3)\n",
        "    \n",
        "    xf.append(xf[i] + (h/6)*(m1 + 2*m2 + 2*m3 + m4))\n",
        "    yf.append(yf[i] + (h/6)*(k1 + 2*k2 + 2*k3 + k4))\n",
        "    yz.append(yz[i] + (h/6)*(r1 + 2*r2 + 2*r3 + r4))\n",
        "\n",
        "  return (t,xf,yf,yz)\n"
      ]
    },
    {
      "attachments": {},
      "cell_type": "markdown",
      "metadata": {
        "id": "5p_xq1dMmG_U"
      },
      "source": [
        "Digitamos los valores iniciales del sistema."
      ]
    },
    {
      "cell_type": "code",
      "execution_count": 32,
      "metadata": {
        "id": "N-HxSYznPS6p"
      },
      "outputs": [],
      "source": [
        "#Valores iniciales\n",
        "ti = 0                            #Valor Inicial de 't'\n",
        "xi = 1\n",
        "yi = 5                           #Valor inicial de 'y'\n",
        "\n",
        "#Limite superior de integracion\n",
        "tf = 1                          #Valor Final de 't'\n",
        "\n",
        "#Tamaño de Paso o incremento\n",
        "h1 = 0.1 \n",
        "z=3                          \n",
        "\n",
        "#Unvicamos al metodo de Runge - Kutta de oreden 2\n",
        "t,x1, yf1,yz = RK4(ti,xi ,yi, tf, h1,z)"
      ]
    },
    {
      "attachments": {},
      "cell_type": "markdown",
      "metadata": {},
      "source": [
        "Valores en pantalla con 8 cifras decimales "
      ]
    },
    {
      "cell_type": "code",
      "execution_count": 33,
      "metadata": {},
      "outputs": [
        {
          "name": "stdout",
          "output_type": "stream",
          "text": [
            "t_i       x_i         \ty_i        \tz_i\n",
            "0.00\t1.00000000\t5.00000000\t3.00000000\n",
            "0.10\t1.51192917\t5.24176250\t0.90672083\n",
            "0.20\t2.03448936\t5.20743238\t-3.12938435\n",
            "0.30\t2.52876682\t4.66681738\t-10.09684694\n",
            "0.40\t2.92723081\t3.27577073\t-21.38728080\n",
            "0.50\t3.12009548\t0.53054389\t-38.93402625\n",
            "0.60\t2.93635780\t-4.29331013\t-65.39057850\n",
            "0.70\t2.11775327\t-12.22182346\t-104.35730406\n",
            "0.80\t0.28339354\t-24.68851773\t-160.66548323\n",
            "0.90\t-3.11771807\t-43.67147204\t-240.72752492\n",
            "1.00\t-8.86975386\t-71.86855934\t-352.96074010\n"
          ]
        }
      ],
      "source": [
        "print(\"t_i       x_i         \\ty_i        \\tz_i\")\n",
        "for t,x,y,z in zip(t,x1,yf1,yz):\n",
        "    print(f\"{t:.2f}\\t{x:.8f}\\t{y:.8f}\\t{z:.8f}\")\n"
      ]
    },
    {
      "attachments": {},
      "cell_type": "markdown",
      "metadata": {},
      "source": [
        "Para la grafica de los valores obtenidos "
      ]
    },
    {
      "cell_type": "code",
      "execution_count": 34,
      "metadata": {},
      "outputs": [
        {
          "data": {
            "image/png": "[encoded data removed]",
            "text/plain": [
              "<Figure size 640x480 with 1 Axes>"
            ]
          },
          "metadata": {},
          "output_type": "display_data"
        }
      ],
      "source": [
        "plt.plot(t, x, 'ro')  \n",
        "plt.plot(t, y,'go')\n",
        "plt.grid()                                \n",
        "plt.show() "
      ]
    }
  ],
  "metadata": {
    "colab": {
      "provenance": []
    },
    "kernelspec": {
      "display_name": "Python 3",
      "name": "python3"
    },
    "language_info": {
      "codemirror_mode": {
        "name": "ipython",
        "version": 3
      },
      "file_extension": ".py",
      "mimetype": "text/x-python",
      "name": "python",
      "nbconvert_exporter": "python",
      "pygments_lexer": "ipython3",
      "version": "3.10.6"
    }
  },
  "nbformat": 4,
  "nbformat_minor": 0
}
