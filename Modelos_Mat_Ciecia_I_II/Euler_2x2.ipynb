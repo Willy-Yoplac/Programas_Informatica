{
 "cells": [
  {
   "attachments": {},
   "cell_type": "markdown",
   "metadata": {},
   "source": [
    "**Calculamos el método de Euler de 2x2 de la forma:**\n",
    "\n",
    "$$ y_{n+1} = y_k + hf(t_n, y_n)$$\n",
    "\n",
    "$$ u_{n+1} = u_n + hf(x_n,y_n, u_n) $$\n",
    "\n",
    "$$ u_{n+1} = u_n + hu' $$\n"
   ]
  },
  {
   "cell_type": "code",
   "execution_count": 1,
   "metadata": {},
   "outputs": [],
   "source": [
    "import numpy as np\n",
    "import matplotlib.pyplot as plt\n",
    "\n",
    "# Definimos la funcion\n",
    "def f1(x, y , u):  \n",
    "  un = -x*u-y  #para modificar o incluir la funcion de tu problema\n",
    "  return  un \n",
    "\n",
    "def g1(x,y,u):\n",
    "  yn = u\n",
    "  return yn"
   ]
  },
  {
   "cell_type": "code",
   "execution_count": 2,
   "metadata": {},
   "outputs": [],
   "source": [
    "xi = 0                            #Valor inicial de 'x'\n",
    "yi = 1                         #Valor inicial de 'y'\n",
    "xf = 0.2                            #Valor final de 'x'\n",
    "h = 0.1                         #Tamaño de paso\n",
    "u=2.0                         \n",
    "\n",
    "n = (xf - xi)/h                                     #Cantidad de pasos o iteraciones de la aproximacion de la funcion\n",
    "x = np.linspace(xi, xf, int(n+1))\n",
    "# n = 2\n",
    "\n",
    "yf=[]                                               # actualiza\n",
    "yf.append(yi)\n",
    "yn=[]\n",
    "yn.append(u)\n",
    "\n",
    "for i in range (int(n)):\n",
    "\n",
    "  yf.append(yi + h*g1(x[i], yf[i],u)) \n",
    "  yn.append(u+h*f1(x[i], yf[i],u))                \n",
    "                           \n",
    "  yi = yf[i+1]\n",
    "  u = yn[i+1]\n",
    "  \n"
   ]
  },
  {
   "cell_type": "code",
   "execution_count": 3,
   "metadata": {},
   "outputs": [
    {
     "name": "stdout",
     "output_type": "stream",
     "text": [
      "xi       yi        \tui\n",
      "0.00\t1.00000000\t2.00000000\n",
      "0.10\t1.20000000\t1.90000000\n",
      "0.20\t1.39000000\t1.76100000\n"
     ]
    }
   ],
   "source": [
    "print(\"xi       yi        \\tui\")\n",
    "for x,yi,ui in zip(x,yf,yn):\n",
    "    print(f\"{x:.2f}\\t{yi:.8f}\\t{ui:.8f}\")"
   ]
  }
 ],
 "metadata": {
  "kernelspec": {
   "display_name": "Python 3.10.4 ('env': venv)",
   "language": "python",
   "name": "python3"
  },
  "language_info": {
   "codemirror_mode": {
    "name": "ipython",
    "version": 3
   },
   "file_extension": ".py",
   "mimetype": "text/x-python",
   "name": "python",
   "nbconvert_exporter": "python",
   "pygments_lexer": "ipython3",
   "version": "3.10.6"
  },
  "orig_nbformat": 4,
  "vscode": {
   "interpreter": {
    "hash": "95e3347635927ee8059bf091424ab552b6988831a1a32cc7418b2a835ab77773"
   }
  }
 },
 "nbformat": 4,
 "nbformat_minor": 2
}
