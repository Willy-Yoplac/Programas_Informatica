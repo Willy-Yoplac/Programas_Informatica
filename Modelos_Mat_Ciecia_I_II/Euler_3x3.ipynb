{
 "cells": [
  {
   "attachments": {},
   "cell_type": "markdown",
   "metadata": {},
   "source": [
    "**Calculamos el método de Euler de 3x3:**\n",
    "\n",
    "\n"
   ]
  },
  {
   "cell_type": "code",
   "execution_count": 1,
   "metadata": {},
   "outputs": [],
   "source": [
    "import numpy as np\n",
    "import matplotlib.pyplot as plt\n",
    "\n",
    "# Definimos la funcion\n",
    "def f1(x, y , u, v):  \n",
    "  un = u  #para modificar o incluir la funcion de tu problema\n",
    "  return  un \n",
    "\n",
    "def g1(x, y , u, v):\n",
    "  yn = v\n",
    "  return yn\n",
    "\n",
    "def h1(x, y, u, v):\n",
    "  z = 5*v-4*u-10*y\n",
    "  return z\n",
    "\n"
   ]
  },
  {
   "attachments": {},
   "cell_type": "markdown",
   "metadata": {},
   "source": [
    "Ingresamos los valores iniciales al sistema "
   ]
  },
  {
   "cell_type": "code",
   "execution_count": 12,
   "metadata": {},
   "outputs": [],
   "source": [
    "xi = 0                            #Valor inicial de 'x'\n",
    "yi = 1                         #Valor inicial de 'y'\n",
    "xf = 1                            #Valor final de 'x'\n",
    "h = 0.1                         #Tamaño de paso\n",
    "u=5                         \n",
    "v=3\n",
    "\n",
    "n = (xf - xi)/h                                     #Cantidad de pasos o iteraciones de la aproximacion de la funcion\n",
    "x = np.linspace(xi, xf, int(n+1))\n",
    "# n = 2\n",
    "\n",
    "yf=[]                                               # actualiza\n",
    "yf.append(yi)\n",
    "yn=[]\n",
    "yn.append(u)\n",
    "yv=[]\n",
    "yv.append(v)\n",
    "\n",
    "for i in range (int(n)):\n",
    "\n",
    "  yf.append(yi + h*g1(x[i], yf[i],u,v)) \n",
    "  yn.append(u+h*f1(x[i], yf[i],u,v))\n",
    "  yv.append(v+h*h1(x[i], yf[i],u,v))                \n",
    "                           \n",
    "  yi = yf[i+1]\n",
    "  u = yn[i+1]\n",
    "  v = yv[i+1]\n",
    "  "
   ]
  },
  {
   "attachments": {},
   "cell_type": "markdown",
   "metadata": {},
   "source": [
    "**Aproximaciones**\n",
    "\n",
    "$$ y_{n+1} = y_n+ hf1(t_n, y_n, u_n, v_n)$$\n",
    "$$ u_{n+1} = u_n+ hg1(t_n, y_n, u_n, v_n)$$\n",
    "$$ v_{n+1} = v_n+ hh1(t_n, y_n, u_n, v_n)$$"
   ]
  },
  {
   "cell_type": "code",
   "execution_count": 13,
   "metadata": {},
   "outputs": [
    {
     "name": "stdout",
     "output_type": "stream",
     "text": [
      "xi       yi            \tui          \tvi\n",
      "0.00\t1.00000000\t5.00000000\t3.00000000\n",
      "0.10\t1.30000000\t5.50000000\t1.50000000\n",
      "0.20\t1.45000000\t6.05000000\t-1.25000000\n",
      "0.30\t1.32500000\t6.65500000\t-5.74500000\n",
      "0.40\t0.75050000\t7.32050000\t-12.60450000\n",
      "0.50\t-0.50995000\t8.05255000\t-22.58545000\n",
      "0.60\t-2.76849500\t8.85780500\t-36.58924500\n",
      "0.70\t-6.42741950\t9.74358550\t-55.65849450\n",
      "0.80\t-11.99326895\t10.71794405\t-80.95775645\n",
      "0.90\t-20.08904460\t11.78973845\t-113.73054335\n",
      "1.00\t-31.46209893\t12.96871230\t-155.22266580\n"
     ]
    }
   ],
   "source": [
    "print(\"xi       yi            \\tui          \\tvi\")\n",
    "for x,yi,ui,v in zip(x,yf,yn, yv):\n",
    "    print(f\"{x:.2f}\\t{yi:.8f}\\t{ui:.8f}\\t{v:.8f}\")"
   ]
  }
 ],
 "metadata": {
  "kernelspec": {
   "display_name": "Python 3.10.4 ('env': venv)",
   "language": "python",
   "name": "python3"
  },
  "language_info": {
   "codemirror_mode": {
    "name": "ipython",
    "version": 3
   },
   "file_extension": ".py",
   "mimetype": "text/x-python",
   "name": "python",
   "nbconvert_exporter": "python",
   "pygments_lexer": "ipython3",
   "version": "3.10.6"
  },
  "orig_nbformat": 4,
  "vscode": {
   "interpreter": {
    "hash": "95e3347635927ee8059bf091424ab552b6988831a1a32cc7418b2a835ab77773"
   }
  }
 },
 "nbformat": 4,
 "nbformat_minor": 2
}
