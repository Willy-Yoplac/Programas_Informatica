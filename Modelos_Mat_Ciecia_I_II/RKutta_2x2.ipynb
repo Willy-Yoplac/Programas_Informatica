{
  "cells": [
    {
      "attachments": {},
      "cell_type": "markdown",
      "metadata": {
        "id": "6iGk0jIl6ZQU"
      },
      "source": [
        "**Método de Runge Kutta de orden 4**\n",
        "\n",
        "importamos las librerias"
      ]
    },
    {
      "cell_type": "code",
      "execution_count": 19,
      "metadata": {
        "id": "H2jyg5Dz6o67"
      },
      "outputs": [],
      "source": [
        "#importamos las librerias a utilizar\n",
        "import matplotlib.pyplot as plt\n",
        "import numpy as np "
      ]
    },
    {
      "attachments": {},
      "cell_type": "markdown",
      "metadata": {
        "id": "kNL9LS_8aptG"
      },
      "source": [
        "**Método de Runge Kuta de orden 4**\n",
        "\n",
        "De la formula de Runge-Kutta de orden 4 tenemos:\n",
        "\n",
        "$$ m_1 = u_i $$\n",
        "$$ k_1 =f(x_i,y_i, u_i) $$\n",
        "\n",
        "$$ m_2 = u_i + \\dfrac{h}{2}k_1 $$\n",
        "$$ k_2 = f\\left(x_i+ \\dfrac{h}{2},y_i+\\dfrac{h}{2}m_1, u_i+\\dfrac{h}{2}k_1 \\right) $$ \n",
        "\n",
        "$$ m_3 = u_i + \\dfrac{h}{2}k_2 $$\n",
        "$$ k_3 = f\\left(x_i+ \\dfrac{h}{2},y_i+\\dfrac{h}{2}m_2, u_i+\\dfrac{h}{2}k_2 \\right) $$\n",
        "\n",
        "$$ m_4 = u_i + hk_3 $$\n",
        "$$ k_4 = f\\left(x_i+ h,y_i+hm_3, u_i+hk_3 \\right) $$\n",
        "\n",
        "Finalmente la aproximación para la EDO:\n",
        "\n",
        "$$ y_{i+1}=y_i + h\\dfrac{m_1+2m_2+2m_3+m_4}{6}  $$ \n",
        "$$ u_{i+1}=u_i + h\\dfrac{k_1+2k_2+2k_3+k_4}{6}  $$ "
      ]
    },
    {
      "attachments": {},
      "cell_type": "markdown",
      "metadata": {
        "id": "gbqEzRFBl0ss"
      },
      "source": [
        "Ingresamos las ecuacioense en $f1,g1$"
      ]
    },
    {
      "cell_type": "code",
      "execution_count": 20,
      "metadata": {
        "id": "9kyYcewZPQcz"
      },
      "outputs": [],
      "source": [
        "def f1(t, x, y):\n",
        "  dvy1 =  -4*x+3*y+6  \n",
        "  return (dvy1)\n",
        "\n",
        "def g1(t,x,y):\n",
        "  gt = -2.4*x+1.6*y+3.6\n",
        "  return (gt)\n"
      ]
    },
    {
      "cell_type": "code",
      "execution_count": 21,
      "metadata": {},
      "outputs": [],
      "source": [
        "def RK4(ti,xi, yi, tf, h):\n",
        "  n = round((tf - ti)/h)                                     #cantidad de intervalos\n",
        "  t = np.linspace(ti, tf, int(n+1))                   #valores de x\n",
        "  yf=[]                                               #aproximacion de la integral de f'x                                          #vector de k4\n",
        "  yf.append(yi)\n",
        "  xf=[]\n",
        "  xf.append(xi)\n",
        "\n",
        "  for i in range (int(n)):\n",
        "    m1=f1(t[i],xf[i], yf[i])\n",
        "    k1 = g1(t[i],xf[i], yf[i])\n",
        "\n",
        "    m2= f1(t[i]+(h/2), xf[i]+(h/2)*m1, yf[i]+(h/2)*k1) \n",
        "    k2 = g1(t[i]+(h/2), xf[i]+(h/2)*m1, yf[i]+(h/2)*k1)\n",
        "\n",
        "    m3= f1(t[i]+(h/2), xf[i]+(h/2)*m2, yf[i]+(h/2)*k2)\n",
        "    k3 = g1(t[i]+(h/2), xf[i]+(h/2)*m2, yf[i]+(h/2)*k2)\n",
        "    \n",
        "    m4= f1(t[i]+h, xf[i]+h*m3, yf[i]+h*k3)\n",
        "    k4 = g1(t[i]+h, xf[i]+h*m3, yf[i]+h*k3)\n",
        "    \n",
        "    xf.append(xf[i] + (h/6)*(m1 + 2*m2 + 2*m3 + m4))\n",
        "    yf.append(yf[i] + (h/6)*(k1 + 2*k2 + 2*k3 + k4))\n",
        "\n",
        "  return (t,xf,yf)\n"
      ]
    },
    {
      "attachments": {},
      "cell_type": "markdown",
      "metadata": {
        "id": "5p_xq1dMmG_U"
      },
      "source": [
        "Digitamos los valores iniciales del sistema."
      ]
    },
    {
      "cell_type": "code",
      "execution_count": 22,
      "metadata": {
        "id": "N-HxSYznPS6p"
      },
      "outputs": [],
      "source": [
        "#Valores iniciales\n",
        "\n",
        "ti = 0                            #Valor Inicial de 't'\n",
        "xi = 0\n",
        "yi = 0                         #Valor inicial de 'y'\n",
        "\n",
        "#Limite superior de integracion\n",
        "tf = 0.5                           #Valor Final de 't'\n",
        "\n",
        "#Tamaño de Paso o incremento\n",
        "h1 = 0.1                            \n",
        "\n",
        "#Unvicamos al metodo de Runge - Kutta de oreden 2\n",
        "t,x1, yf1 = RK4(ti,xi ,yi, tf, h1)"
      ]
    },
    {
      "attachments": {},
      "cell_type": "markdown",
      "metadata": {},
      "source": [
        "Valores en pantalla con 8 cifras decimales "
      ]
    },
    {
      "cell_type": "code",
      "execution_count": 23,
      "metadata": {},
      "outputs": [
        {
          "name": "stdout",
          "output_type": "stream",
          "text": [
            "ti       yi        \tui\n",
            "0.00\t0.00000000\t0.00000000\n",
            "0.10\t0.53825520\t0.31962624\n",
            "0.20\t0.96849874\t0.56878217\n",
            "0.30\t1.31071904\t0.76073313\n",
            "0.40\t1.58126524\t0.90632062\n",
            "0.50\t1.79350749\t1.01440242\n"
          ]
        }
      ],
      "source": [
        "print(\"ti       yi        \\tui\")\n",
        "for t,x,y in zip(t,x1,yf1):\n",
        "    print(f\"{t:.2f}\\t{x:.8f}\\t{y:.8f}\")\n"
      ]
    },
    {
      "attachments": {},
      "cell_type": "markdown",
      "metadata": {},
      "source": [
        "Para la grafica de los valores obtenidos "
      ]
    },
    {
      "cell_type": "code",
      "execution_count": 24,
      "metadata": {},
      "outputs": [
        {
          "data": {
            "image/png": "[encoded data removed]",
            "text/plain": [
              "<Figure size 640x480 with 1 Axes>"
            ]
          },
          "metadata": {},
          "output_type": "display_data"
        }
      ],
      "source": [
        "plt.plot(t, x, 'ro')  \n",
        "plt.plot(t, y,'go')\n",
        "plt.grid()                                #Grafic\n",
        "plt.show() "
      ]
    }
  ],
  "metadata": {
    "colab": {
      "provenance": []
    },
    "kernelspec": {
      "display_name": "Python 3",
      "name": "python3"
    },
    "language_info": {
      "codemirror_mode": {
        "name": "ipython",
        "version": 3
      },
      "file_extension": ".py",
      "mimetype": "text/x-python",
      "name": "python",
      "nbconvert_exporter": "python",
      "pygments_lexer": "ipython3",
      "version": "3.10.6"
    }
  },
  "nbformat": 4,
  "nbformat_minor": 0
}
